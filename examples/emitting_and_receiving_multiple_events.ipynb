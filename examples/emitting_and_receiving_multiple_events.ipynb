{
 "cells": [
  {
   "cell_type": "markdown",
   "metadata": {
    "id": "dJnIWqNCbGvK"
   },
   "source": [
    "# Emitting and Receiving Multiple Events in a Workflow\n",
    "\n",
    "In this notebook we will explore a simple example of how to emit, process and produce outputs from multiple events at a time."
   ]
  },
  {
   "cell_type": "markdown",
   "metadata": {
    "id": "0h_CwZ8WbHDE"
   },
   "source": [
    "**1. Install needed dependencies**"
   ]
  },
  {
   "cell_type": "code",
   "execution_count": null,
   "metadata": {
    "id": "6ymoQoPpbC0p"
   },
   "outputs": [],
   "source": [
    "! pip install llama-index-workflows"
   ]
  },
  {
   "cell_type": "markdown",
   "metadata": {
    "id": "7eIVkkMUb-fP"
   },
   "source": [
    "**2. Create a simple workflow**\n",
    "\n",
    "We will create a simple workflow that imitates an email-sending automation agent, that can send a batch of emails at once starting from a JSON-like object that maps each contact to the content of the email to send."
   ]
  },
  {
   "cell_type": "markdown",
   "metadata": {
    "id": "xJ7MUmIag18i"
   },
   "source": [
    "We first define the events that are necessary for the workflow steps"
   ]
  },
  {
   "cell_type": "code",
   "execution_count": 2,
   "metadata": {
    "id": "g-sNE5N7b3JJ"
   },
   "outputs": [],
   "source": [
    "from workflows import Workflow, Context, step\n",
    "from workflows.events import StartEvent, Event, StopEvent\n",
    "import time\n",
    "from typing import Dict\n",
    "\n",
    "\n",
    "class InputEvent(StartEvent):\n",
    "    emails: Dict[str, str]\n",
    "\n",
    "\n",
    "class EmailEvent(Event):\n",
    "    contact: str\n",
    "    content: str\n",
    "\n",
    "\n",
    "class ProcessEmailEvent(Event):\n",
    "    sent: bool\n",
    "    time: float"
   ]
  },
  {
   "cell_type": "markdown",
   "metadata": {
    "id": "BMbnrTmjg54Q"
   },
   "source": [
    "Then we define a simple email counter, which will tell us how many emails were sent and how many failed to send. We will pass this as a resource to the workflow."
   ]
  },
  {
   "cell_type": "code",
   "execution_count": 3,
   "metadata": {
    "id": "lVtOMAYFfgHI"
   },
   "outputs": [],
   "source": [
    "from workflows.resource import Resource\n",
    "\n",
    "\n",
    "class EmailCounter:\n",
    "    def __init__(self):\n",
    "        self.sent = 0\n",
    "        self.not_sent = 0\n",
    "\n",
    "    def update(self, sent: bool):\n",
    "        if sent:\n",
    "            self.sent += 1\n",
    "        else:\n",
    "            self.not_sent += 1\n",
    "\n",
    "\n",
    "counter = EmailCounter()\n",
    "\n",
    "\n",
    "def get_counter(*args, **kwargs):\n",
    "    return counter"
   ]
  },
  {
   "cell_type": "markdown",
   "metadata": {
    "id": "RF7D0QNzhGMn"
   },
   "source": [
    "We can finally define the workflow, with a first step that will emit an `EmailEvent` for every contact we have, then a second step that will process each email and return wether that email has been sent or not and at what time it was processed (it will also update the counter), and lastly we will have a step that will collect all the events and will return to us how many emails have failed and how many have succeeded to send."
   ]
  },
  {
   "cell_type": "code",
   "execution_count": null,
   "metadata": {
    "id": "FDlrpPLBdBKv"
   },
   "outputs": [],
   "source": [
    "import random\n",
    "from typing import Annotated\n",
    "\n",
    "\n",
    "class EmailWorkflow(Workflow):\n",
    "    @step\n",
    "    async def collect_emails(self, ctx: Context, ev: InputEvent) -> EmailEvent | None:\n",
    "        events = []\n",
    "        for contact, content in ev.emails.items():\n",
    "            events.append(EmailEvent(contact=contact, content=content))\n",
    "        ctx.send_events(events)\n",
    "        return\n",
    "\n",
    "    @step\n",
    "    async def process_email(\n",
    "        self,\n",
    "        ctx: Context,\n",
    "        ev: EmailEvent,\n",
    "        counter: Annotated[EmailCounter, Resource(get_counter)],\n",
    "    ) -> ProcessEmailEvent | None:\n",
    "        n = random.randint(0, 1)\n",
    "        print(f\"Sending email to {ev.contact}...⌛\")\n",
    "        if n == 1:\n",
    "            counter.update(sent=True)\n",
    "            print(\"Success!✅\\n\")\n",
    "            return ProcessEmailEvent(sent=True, time=time.time())\n",
    "        else:\n",
    "            print(\"Failed to send email!❌\\n\")\n",
    "            counter.update(sent=False)\n",
    "            return ProcessEmailEvent(sent=False, time=time.time())\n",
    "\n",
    "    @step\n",
    "    async def output(\n",
    "        self,\n",
    "        ctx: Context,\n",
    "        ev: ProcessEmailEvent,\n",
    "        counter: Annotated[EmailCounter, Resource(get_counter)],\n",
    "    ) -> StopEvent | None:\n",
    "        events = ctx.receive_events(ev, [type(ev)])\n",
    "        if events:\n",
    "            return None\n",
    "        return StopEvent(\n",
    "            result=f\"Sent {counter.sent} emails; {counter.not_sent} failed\"\n",
    "        )"
   ]
  },
  {
   "cell_type": "markdown",
   "metadata": {
    "id": "oWStijKleQvc"
   },
   "source": [
    "**3. Test the workflow**"
   ]
  },
  {
   "cell_type": "code",
   "execution_count": 5,
   "metadata": {
    "id": "Ps4mTd6feUS1"
   },
   "outputs": [],
   "source": [
    "emails = {\n",
    "    \"john.doe@example.com\": \"Dear John,\\nHow are you?\",\n",
    "    \"johanna.doe@example.com\": \"Dear Johanna,\\nHow are you?\",\n",
    "    \"mario.rossi@email.it\": \"Hello Mario!\\nHope everything is going weel :)\",\n",
    "    \"alice.smith@example.com\": \"Hi Alice, just checking in.\",\n",
    "    \"bob.johnson@email.com\": \"Meeting notes for tomorrow.\",\n",
    "    \"charlie.brown@mail.org\": \"Your order confirmation.\",\n",
    "    \"david.williams@example.net\": \"Regarding your recent inquiry.\",\n",
    "    \"eve.jones@email.co.uk\": \"Special offer just for you!\",\n",
    "    \"frank.miller@mail.net\": \"Follow up on our conversation.\",\n",
    "    \"grace.davis@example.com\": \"Important update about your account.\",\n",
    "    \"heidi.moore@email.org\": \"Your weekly newsletter.\",\n",
    "    \"ivan.taylor@mail.com\": \"A quick question for you.\",\n",
    "    \"judy.anderson@example.net\": \"Upcoming event details.\",\n",
    "    \"kevin.thomas@email.co.uk\": \"Your monthly statement is ready.\",\n",
    "    \"liam.jackson@mail.net\": \"Exclusive discount code.\",\n",
    "    \"mia.white@example.com\": \"Feedback request for your recent purchase.\",\n",
    "    \"noah.harris@email.org\": \"Invitation to our webinar.\",\n",
    "    \"olivia.martin@mail.com\": \"Happy birthday!\",\n",
    "    \"peter.garcia@example.net\": \"Important security alert.\",\n",
    "    \"quinn.rodriguez@email.co.uk\": \"Your subscription is expiring soon.\",\n",
    "}"
   ]
  },
  {
   "cell_type": "code",
   "execution_count": 6,
   "metadata": {
    "colab": {
     "base_uri": "https://localhost:8080/"
    },
    "id": "uKGxIM_VesKW",
    "outputId": "7eadb89c-d50b-4ac5-a19d-193de9022b16"
   },
   "outputs": [
    {
     "name": "stdout",
     "output_type": "stream",
     "text": [
      "Sending email to john.doe@example.com...⌛\n",
      "Success!✅\n",
      "\n",
      "Sending email to johanna.doe@example.com...⌛\n",
      "Success!✅\n",
      "\n",
      "Sending email to mario.rossi@email.it...⌛\n",
      "Failed to send email!❌\n",
      "\n",
      "Sending email to alice.smith@example.com...⌛\n",
      "Failed to send email!❌\n",
      "\n",
      "Sending email to bob.johnson@email.com...⌛\n",
      "Failed to send email!❌\n",
      "\n",
      "Sending email to charlie.brown@mail.org...⌛\n",
      "Success!✅\n",
      "\n",
      "Sending email to david.williams@example.net...⌛\n",
      "Failed to send email!❌\n",
      "\n",
      "Sending email to eve.jones@email.co.uk...⌛\n",
      "Failed to send email!❌\n",
      "\n",
      "Sending email to frank.miller@mail.net...⌛\n",
      "Success!✅\n",
      "\n",
      "Sending email to grace.davis@example.com...⌛\n",
      "Success!✅\n",
      "\n",
      "Sending email to heidi.moore@email.org...⌛\n",
      "Success!✅\n",
      "\n",
      "Sending email to ivan.taylor@mail.com...⌛\n",
      "Success!✅\n",
      "\n",
      "Sending email to judy.anderson@example.net...⌛\n",
      "Success!✅\n",
      "\n",
      "Sending email to kevin.thomas@email.co.uk...⌛\n",
      "Success!✅\n",
      "\n",
      "Sending email to liam.jackson@mail.net...⌛\n",
      "Success!✅\n",
      "\n",
      "Sending email to mia.white@example.com...⌛\n",
      "Success!✅\n",
      "\n",
      "Sending email to noah.harris@email.org...⌛\n",
      "Success!✅\n",
      "\n",
      "Sending email to olivia.martin@mail.com...⌛\n",
      "Success!✅\n",
      "\n",
      "Sending email to peter.garcia@example.net...⌛\n",
      "Failed to send email!❌\n",
      "\n",
      "Sending email to quinn.rodriguez@email.co.uk...⌛\n",
      "Failed to send email!❌\n",
      "\n"
     ]
    }
   ],
   "source": [
    "wf = EmailWorkflow()\n",
    "result = await wf.run(start_event=InputEvent(emails=emails))"
   ]
  },
  {
   "cell_type": "code",
   "execution_count": 7,
   "metadata": {
    "colab": {
     "base_uri": "https://localhost:8080/"
    },
    "id": "5NdnNOT1e4Qg",
    "outputId": "b94111b5-22ee-47a4-b3fc-47e83ceb99b7"
   },
   "outputs": [
    {
     "name": "stdout",
     "output_type": "stream",
     "text": [
      "Sent 13 emails; 7 failed\n"
     ]
    }
   ],
   "source": [
    "print(result)"
   ]
  }
 ],
 "metadata": {
  "colab": {
   "provenance": []
  },
  "kernelspec": {
   "display_name": "llama-index-work",
   "language": "python",
   "name": "python3"
  },
  "language_info": {
   "codemirror_mode": {
    "name": "ipython",
    "version": 3
   },
   "file_extension": ".py",
   "mimetype": "text/x-python",
   "name": "python",
   "nbconvert_exporter": "python",
   "pygments_lexer": "ipython3",
   "version": "3.12.11"
  }
 },
 "nbformat": 4,
 "nbformat_minor": 0
}
